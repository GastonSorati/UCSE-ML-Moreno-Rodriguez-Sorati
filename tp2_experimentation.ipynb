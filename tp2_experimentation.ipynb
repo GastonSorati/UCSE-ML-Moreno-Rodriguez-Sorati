{
  "nbformat": 4,
  "nbformat_minor": 0,
  "metadata": {
    "colab": {
      "name": "TP2-FINAL.ipynb",
      "provenance": []
    },
    "kernelspec": {
      "display_name": "Python 3",
      "language": "python",
      "name": "python3"
    },
    "language_info": {
      "codemirror_mode": {
        "name": "ipython",
        "version": 3
      },
      "file_extension": ".py",
      "mimetype": "text/x-python",
      "name": "python",
      "nbconvert_exporter": "python",
      "pygments_lexer": "ipython3",
      "version": "3.6.9"
    }
  },
  "cells": [
    {
      "cell_type": "markdown",
      "metadata": {
        "colab_type": "text",
        "id": "3L0Wa--jSf23"
      },
      "source": [
        "# TRABAJO PRÁCTICO 2 - MACHINE LEARNING\n",
        "### INTEGRANTES: MORENO, AGOSTINA; RODRÍGUEZ, NICOLÁS; SORATI, GASTÓN\n",
        "\n",
        "#### Continuando con el trabajo realizado en el Trabajo Práctico 1, utilizaremos el dataset de Destinos AirBNB (kaggle.com) con la finalidad de poder predecir al momento que un usuario o usuaria se registra, si efectivamente terminará haciendo una reserva en el sitio (lo que le puede servir al negocio para mostrarle anuncios, ofertas o promociones específicas, por ejemplo).\n",
        "\n",
        "#### Para ello, desarrollaremos y probaremos modelos con distintos algoritmos de machine learning a fin de obtener el que mejor cumpla con el objetivo de negocio."
      ]
    },
    {
      "cell_type": "code",
      "metadata": {
        "colab_type": "code",
        "id": "6nRiEP1oEmmX",
        "colab": {}
      },
      "source": [
        "import pandas as pd\n",
        "import matplotlib.pyplot as plt\n",
        "import numpy as np\n",
        "import seaborn as sns\n",
        "import itertools\n",
        "import warnings\n",
        "from sklearn.metrics import accuracy_score, precision_score, recall_score, f1_score, confusion_matrix, matthews_corrcoef\n",
        "from sklearn.model_selection import train_test_split\n",
        "from keras import backend as K\n",
        "from matplotlib import pyplot as plt\n",
        "\n",
        "from keras.models import Sequential\n",
        "from keras.layers import Dense, Activation, Input, Dropout\n",
        "\n",
        "from sklearn.preprocessing import minmax_scale\n",
        "warnings.filterwarnings(\"ignore\")"
      ],
      "execution_count": 0,
      "outputs": []
    },
    {
      "cell_type": "code",
      "metadata": {
        "colab_type": "code",
        "id": "Xj1xad-VJYqb",
        "colab": {}
      },
      "source": [
        "data = pd.read_csv('train_users_2.csv')"
      ],
      "execution_count": 0,
      "outputs": []
    },
    {
      "cell_type": "code",
      "metadata": {
        "colab_type": "code",
        "id": "60Kiv_QireEa",
        "colab": {}
      },
      "source": [
        "data"
      ],
      "execution_count": 0,
      "outputs": []
    },
    {
      "cell_type": "markdown",
      "metadata": {
        "colab_type": "text",
        "id": "0zl7V5vqSf3y"
      },
      "source": [
        "#### En primer término aplicaremos a la base de datos el preprocesamiento desarrollado y justificado en el Trabajo Práctico 1:"
      ]
    },
    {
      "cell_type": "code",
      "metadata": {
        "colab_type": "code",
        "id": "-vL5ZWCx9lCd",
        "colab": {}
      },
      "source": [
        "data['reserva'] = data.country_destination != 'NDF'\n",
        "data['reserva'].value_counts()"
      ],
      "execution_count": 0,
      "outputs": []
    },
    {
      "cell_type": "code",
      "metadata": {
        "colab_type": "code",
        "id": "8NPzAUskreEh",
        "colab": {}
      },
      "source": [
        "# Cuando se hacia el one-hot encoder de esta variable daba un error porque tiene valores nulos por eso los elimino en la linea de abajo\n",
        "data.first_affiliate_tracked.isnull().sum()"
      ],
      "execution_count": 0,
      "outputs": []
    },
    {
      "cell_type": "code",
      "metadata": {
        "colab_type": "code",
        "id": "JzqQQDnKreEk",
        "colab": {}
      },
      "source": [
        "data = data.drop(data[data.first_affiliate_tracked.isnull()].index)"
      ],
      "execution_count": 0,
      "outputs": []
    },
    {
      "cell_type": "markdown",
      "metadata": {
        "colab_type": "text",
        "id": "JCI-4hDjSf42"
      },
      "source": [
        "#### Con respecto a la variable 'edad', realizamos el mismo binning que en el Trabajo Práctico 1, lo cual ahora nos será de utilidad para que el modelo no sobreentrene:"
      ]
    },
    {
      "cell_type": "code",
      "metadata": {
        "colab_type": "code",
        "id": "n2nBDXtereEn",
        "colab": {}
      },
      "source": [
        "# Se eliminan los registros que tengan como edad menores de 18 y mayores de 100\n",
        "data = data.drop(data[(data.age > 100)].index)\n",
        "data = data.drop(data[(data.age < 18)].index)"
      ],
      "execution_count": 0,
      "outputs": []
    },
    {
      "cell_type": "code",
      "metadata": {
        "colab_type": "code",
        "id": "XoSKXiR6reEq",
        "colab": {}
      },
      "source": [
        "# Se crea una nueva variable con el rango etario al cual pertenece segun la edad\n",
        "limite = [18, 35, 65, np.inf]\n",
        "categoria = ['Adulto Joven', 'Adulto', 'Adulto Mayor']\n",
        "\n",
        "data['rango_etario'] = pd.cut(data['age'], bins=limite, labels=categoria, right=False)"
      ],
      "execution_count": 0,
      "outputs": []
    },
    {
      "cell_type": "code",
      "metadata": {
        "colab_type": "code",
        "id": "kfMqw3k0reEu",
        "colab": {}
      },
      "source": [
        "# Se verifica cuantos no ingresan dentro de un rango etario y quedaron en null\n",
        "data.rango_etario.isnull().sum()"
      ],
      "execution_count": 0,
      "outputs": []
    },
    {
      "cell_type": "code",
      "metadata": {
        "colab_type": "code",
        "id": "pfOuv1K_reEx",
        "colab": {}
      },
      "source": [
        "# Se crea una nueva categoria y se incluye en esta todos los que tengan valores null\n",
        "data['rango_etario'] = data['rango_etario'].cat.add_categories('Edad Desconocida').fillna('Edad Desconocida')"
      ],
      "execution_count": 0,
      "outputs": []
    },
    {
      "cell_type": "code",
      "metadata": {
        "colab_type": "code",
        "id": "XfwUhhsJreE0",
        "colab": {}
      },
      "source": [
        "# Se elimina la columna edad\n",
        "data.drop(\"age\",axis = 1,inplace = True)"
      ],
      "execution_count": 0,
      "outputs": []
    },
    {
      "cell_type": "code",
      "metadata": {
        "colab_type": "code",
        "id": "RKOSggtnEDXI",
        "colab": {}
      },
      "source": [
        "#Conversion de variables\n",
        "data_tree = data.copy()\n",
        "\n",
        "data['sex_m'] = data.gender == 'MALE'\n",
        "data['sex_f'] = data.gender == 'FEMALE'\n",
        "data['sex_d'] = data.gender == '-unknown-'\n",
        "data['sex_o'] = data.gender == 'OTHER'\n",
        "data.drop(\"gender\",axis = 1,inplace = True)\n",
        "\n",
        "data['signup_aw'] = data.signup_app == 'Web'\n",
        "data['signup_ai'] = data.signup_app == 'iOS'\n",
        "data['signup_am'] = data.signup_app == 'Moweb'\n",
        "data['signup_aa'] = data.signup_app == 'Android'\n",
        "data.drop(\"signup_app\",axis = 1,inplace = True)\n",
        "\n",
        "data['signup_mb'] = data.signup_method == 'basic'\n",
        "data['signup_mf'] = data.signup_method == 'facebook'\n",
        "data['signup_mg'] = data.signup_method == 'google'\n",
        "data.drop(\"signup_method\",axis = 1,inplace = True)"
      ],
      "execution_count": 0,
      "outputs": []
    },
    {
      "cell_type": "code",
      "metadata": {
        "colab_type": "code",
        "id": "nstKlozIreE7",
        "colab": {}
      },
      "source": [
        "data"
      ],
      "execution_count": 0,
      "outputs": []
    },
    {
      "cell_type": "markdown",
      "metadata": {
        "colab_type": "text",
        "id": "Bj-o719KSf55"
      },
      "source": [
        "#### Aplicamos One Hot Encoder a las variables, al igual que en el Trabajo Práctico 1:"
      ]
    },
    {
      "cell_type": "code",
      "metadata": {
        "colab_type": "code",
        "id": "RJ03SjKJShp6",
        "colab": {}
      },
      "source": [
        "# one-hot encoder para language\n",
        "for language in data.language.unique():\n",
        "    data[language.lower().replace(\" \", \"_\")] = data.language == language \n",
        "data.drop(\"language\",axis = 1,inplace = True)\n",
        "\n",
        "# one-hot encoder para first_affiliate_tracked\n",
        "for first_affiliate_tracked in data.first_affiliate_tracked.unique():\n",
        "    data[first_affiliate_tracked.replace(\" \", \"_\")] = data.first_affiliate_tracked == first_affiliate_tracked \n",
        "data.drop(\"first_affiliate_tracked\",axis = 1,inplace = True)\n",
        "#data.gender = data.gender.astype(float)\n",
        "\n",
        "# one-hot encoder para affiliate_provider\n",
        "for affiliate_provider in data.affiliate_provider.unique():\n",
        "    data[affiliate_provider.lower().replace(\" \", \"_\")] = data.affiliate_provider == affiliate_provider \n",
        "data.drop(\"affiliate_provider\",axis = 1,inplace = True)\n",
        "\n",
        "# one-hot encoder para first_device_type\n",
        "for first_device_type in data.first_device_type.unique():\n",
        "    data[first_device_type.lower().replace(\" \", \"_\")] = data.first_device_type == first_device_type \n",
        "data.drop(\"first_device_type\",axis = 1,inplace = True)\n",
        "\n",
        "# one-hot encoder para first_browser\n",
        "for first_browser in data.first_browser.unique():\n",
        "    data[first_browser.lower().replace(\" \", \"_\")] = data.first_browser == first_browser \n",
        "data.drop(\"first_browser\",axis = 1,inplace = True)\n",
        "\n",
        "# one-hot encoder para first_browser\n",
        "for rango_etario in data.rango_etario.unique():\n",
        "    data[rango_etario.lower().replace(\" \", \"_\")] = data.rango_etario == rango_etario \n",
        "data.drop(\"rango_etario\",axis = 1,inplace = True)"
      ],
      "execution_count": 0,
      "outputs": []
    },
    {
      "cell_type": "code",
      "metadata": {
        "colab_type": "code",
        "id": "8wNknq0HIwdS",
        "colab": {}
      },
      "source": [
        "# Se eliminan columnas que no se van a utilizar\n",
        "data.drop(\"id\",axis = 1,inplace = True)\n",
        "data.drop(\"date_account_created\",axis = 1,inplace = True)\n",
        "data.drop(\"timestamp_first_active\",axis = 1,inplace = True)\n",
        "data.drop(\"date_first_booking\",axis = 1,inplace = True)\n",
        "data.drop(\"signup_flow\",axis = 1,inplace = True)\n",
        "data.drop(\"affiliate_channel\",axis = 1,inplace = True)\n",
        "data.drop(\"country_destination\",axis = 1,inplace = True)\n",
        "\n",
        "##data = data.drop(data[(data.age > 100)].index)\n",
        "#data = data.drop(data[(data.age < 18)].index)\n",
        "\n",
        "#data['age'].apply(pd.to_numeric, errors='coerce')"
      ],
      "execution_count": 0,
      "outputs": []
    },
    {
      "cell_type": "code",
      "metadata": {
        "colab_type": "code",
        "id": "3R_0VtPO7fDv",
        "colab": {}
      },
      "source": [
        "#Separamos el conjunto de datos en: train, test y validation\n",
        "train, not_train = train_test_split(data, test_size=0.4)\n",
        "validation, test = train_test_split(not_train, test_size=0.5)"
      ],
      "execution_count": 0,
      "outputs": []
    },
    {
      "cell_type": "code",
      "metadata": {
        "colab_type": "code",
        "id": "4ZAmbJl-7ybf",
        "colab": {}
      },
      "source": [
        "#Definimos las columas a utilizar en las predicciones (eliminamos la columna target)\n",
        "INPUTS_COLUMNS = data.columns.values\n",
        "index = np.where(INPUTS_COLUMNS == \"reserva\")[0]\n",
        "INPUTS_COLUMNS = np.delete(INPUTS_COLUMNS,index[0])\n",
        "INPUTS_COLUMNS"
      ],
      "execution_count": 0,
      "outputs": []
    },
    {
      "cell_type": "markdown",
      "metadata": {
        "colab_type": "text",
        "id": "ie2sa4COSf6a"
      },
      "source": [
        "## MÉTRICA DE EVALUACIÓN: F1 SCORE\n",
        "\n",
        "#### Para medir nuestros modelos utilizaremos la métrica F1 Score porque nos permite establecer una relación entre lás métricas Precission y Recall. Precission es útil en los casos en los que queremos estar seguros de hacer una predicción correcta. Recall es útil si queremos asegurararnos de que la prediccion sea correcta en la mayoria de los casos.\n",
        "\n",
        "#### Cabe destacar que estas dos métricas funcionan bien cuando hay menor cantidad de casos positivos en la variable target (como sucede en nuestro dataset con la cantidad de reserva de usuarios).\n",
        "\n",
        "#### Además, contrastaremos los resultados obtenidos con la métrica Matthews Coefficient Correlation (MCC) ya que según cierta bibliografía es más informativa que F1 Score en problemas de clasificación binaria, como es nuestro caso (https://www.ncbi.nlm.nih.gov/pmc/articles/PMC5721660/#Sec9)\n",
        "\n",
        "#### Para realizar la evaluación en sí, utilizaremos la siguiente función:"
      ]
    },
    {
      "cell_type": "code",
      "metadata": {
        "colab_type": "code",
        "id": "Nf1by_5s78WZ",
        "colab": {}
      },
      "source": [
        "def evaluate_model(model, extract_inputs_function, extract_outputs_function, tree ,include_validation=False, nn=False):\n",
        "    if tree:\n",
        "        sets = [('train', train_tree), ('test', test_tree), ('validation', validation_tree)] #Tree\n",
        "    else:\n",
        "        sets = [('train', train), ('test', test), ('validation', validation)] \n",
        "    if include_validation:\n",
        "        sets.append(('validation', validation))\n",
        "        \n",
        "    for set_name, set_data in sets:\n",
        "        inputs = extract_inputs_function(set_data)\n",
        "        outputs = extract_outputs_function(set_data)\n",
        "        predictions = model.predict(inputs)\n",
        "        if nn:\n",
        "            predictions = np.around(predictions)\n",
        "        \n",
        "        print(set_name, '#' * 80)\n",
        "        \n",
        "        # print metrics\n",
        "        \n",
        "        print('Precision:', precision_score(outputs, predictions))\n",
        "        print('Recall:', recall_score(outputs, predictions))\n",
        "        print('F1Score:', f1_score(outputs, predictions))\n",
        "        print('MCC:', matthews_corrcoef(outputs, predictions))\n",
        "        \n",
        "        print()\n",
        "        \n",
        "        # plot confussion matrix\n",
        "        \n",
        "        plt.figure(figsize=(3,4))\n",
        "        \n",
        "        plt.xticks([0, 1], ['reserva', 'no reserva'], rotation=45)\n",
        "        plt.yticks([0, 1], ['no reserva', 'reserva'])\n",
        "        plt.xlabel('Predicted class')\n",
        "        plt.ylabel('True class')\n",
        "\n",
        "        plt.title(set_name)\n",
        "\n",
        "        plt.imshow(\n",
        "            confusion_matrix(outputs, predictions), \n",
        "            cmap=plt.cm.Blues, \n",
        "            interpolation='nearest',\n",
        "        )\n",
        "\n",
        "        plt.show()"
      ],
      "execution_count": 0,
      "outputs": []
    },
    {
      "cell_type": "markdown",
      "metadata": {
        "colab_type": "text",
        "id": "Y0e9AXRDSf7x"
      },
      "source": [
        "## MODELO 1: LINEAR SVC"
      ]
    },
    {
      "cell_type": "markdown",
      "metadata": {
        "id": "c_m_3uYPFKuY",
        "colab_type": "text"
      },
      "source": [
        "#### En primer lugar utilizaremos el algoritmo LinearSVC, ya que según la bibliografía de scikit-learn es el más apropiado para problemas de clasificación como el nuestro (https://scikit-learn.org/stable/_static/ml_map.png):"
      ]
    },
    {
      "cell_type": "code",
      "metadata": {
        "colab_type": "code",
        "id": "zYUxV_1iSf70",
        "colab": {}
      },
      "source": [
        "from sklearn import svm\n",
        "from sklearn.svm import LinearSVC\n",
        "\n",
        "def lsvc_extract_inputs(data):\n",
        "    return data[INPUTS_COLUMNS].values.astype(np.float64)\n",
        "   \n",
        "def lsvc_extract_outputs(data):\n",
        "    return data.reserva.values"
      ],
      "execution_count": 0,
      "outputs": []
    },
    {
      "cell_type": "code",
      "metadata": {
        "colab_type": "code",
        "id": "WfjU7XNbSf76",
        "colab": {}
      },
      "source": [
        "lsvc_model = LinearSVC(C = 1.0)\n",
        "lsvc_model.fit(lsvc_extract_inputs(train),lsvc_extract_outputs(train),)"
      ],
      "execution_count": 0,
      "outputs": []
    },
    {
      "cell_type": "code",
      "metadata": {
        "colab_type": "code",
        "id": "_MMwGnKTSf8B",
        "colab": {}
      },
      "source": [
        "evaluate_model(lsvc_model, lsvc_extract_inputs, lsvc_extract_outputs, False)"
      ],
      "execution_count": 0,
      "outputs": []
    },
    {
      "cell_type": "markdown",
      "metadata": {
        "colab_type": "text",
        "id": "S0QihE2CTLSQ"
      },
      "source": [
        "**Conclusión:**\n",
        "\n",
        "En el 66,52% de los casos que el modelo LinearSVC predijo que un usuario reservaría sobre el conjunto 'test', ese usuario efectivamente lo hizo. En el restante 33,48% de los casos se trataba de usuarios que en realidad no reservaron.\n",
        "\n",
        "Además, identificó correctamente al 53,65% de los usuarios que reservaron, mientras que en el 46,35% de los casos se equivocó al predecir que no reservarían.\n",
        "\n",
        "Su F1 Score es de 0,594 y su MCC de 0.36.\n",
        "\n",
        "Consideramos que el modelo funciona bien, ya que considerando que el dataset tiene más casos que no reservan en relación a los que sí lo hacen, puedo identificar al 53,65% de los usuarios que se registran y harán una reserva."
      ]
    },
    {
      "cell_type": "markdown",
      "metadata": {
        "colab_type": "text",
        "id": "EurwgR7_8NSJ"
      },
      "source": [
        "## MODELO 2: REGRESIÓN LOGÍSTICA"
      ]
    },
    {
      "cell_type": "markdown",
      "metadata": {
        "id": "KL61JQYtFKul",
        "colab_type": "text"
      },
      "source": [
        "#### Como segunda opción utilizaremos uno de los algoritmos más sencillos, y es útil para problemas de clasificación binaria como el nuestro."
      ]
    },
    {
      "cell_type": "code",
      "metadata": {
        "colab_type": "code",
        "id": "c6TLPWBaK4y2",
        "colab": {}
      },
      "source": [
        "from sklearn.linear_model import LogisticRegression\n",
        "from sklearn.preprocessing import StandardScaler\n",
        "from sklearn.pipeline import Pipeline"
      ],
      "execution_count": 0,
      "outputs": []
    },
    {
      "cell_type": "code",
      "metadata": {
        "colab_type": "code",
        "id": "X5cq8Uh29_do",
        "colab": {}
      },
      "source": [
        "def lr_extract_inputs(data):\n",
        "    return data[INPUTS_COLUMNS].values. astype(np.float64)\n",
        "   \n",
        "def lr_extract_outputs(data):\n",
        "    return data.reserva.values"
      ],
      "execution_count": 0,
      "outputs": []
    },
    {
      "cell_type": "code",
      "metadata": {
        "colab_type": "code",
        "id": "O7RhuMga-B9p",
        "colab": {}
      },
      "source": [
        "lr_model = Pipeline([\n",
        "    ('scaler', StandardScaler()),\n",
        "    ('classifier', LogisticRegression(random_state=30, solver='liblinear')),\n",
        "])"
      ],
      "execution_count": 0,
      "outputs": []
    },
    {
      "cell_type": "code",
      "metadata": {
        "colab_type": "code",
        "id": "ViERLzns-EF2",
        "colab": {}
      },
      "source": [
        "lr_model.fit(\n",
        "    lr_extract_inputs(train),\n",
        "    lr_extract_outputs(train),\n",
        ")"
      ],
      "execution_count": 0,
      "outputs": []
    },
    {
      "cell_type": "code",
      "metadata": {
        "colab_type": "code",
        "id": "c3AUoNyg-GWM",
        "colab": {}
      },
      "source": [
        "evaluate_model(lr_model, lr_extract_inputs, lr_extract_outputs, False)"
      ],
      "execution_count": 0,
      "outputs": []
    },
    {
      "cell_type": "markdown",
      "metadata": {
        "colab_type": "text",
        "id": "xbI3CnLhTEvR"
      },
      "source": [
        "**Conclusión:**\n",
        "Podemos concluir con que este modelo no es el apropiado para nuestro caso ya que los valores que expresan las métricas son bajos. \n",
        "Observamos una precisión de 60% con este modelo, esto puede deberse a nuestro conjunto de datos no es linealmente divisible.\n",
        "\n",
        "En el 66,37% de los casos que el modelo de Regresión Lineal predijo que un usuario reservaría sobre el conjunto 'test', ese usuario efectivamente lo hizo.\n",
        "\n",
        "Además, identificó correctamente al 53,61% de los usuarios que reservaron.\n",
        "\n",
        "Expresado como F1 Score su valor numérico es de 0,593 y el MCC de 0.358.\n",
        "\n",
        "Sus métricas son inferiores a los valores de LinearSVC, por lo que este modelo no será priorizado.\n",
        "\n"
      ]
    },
    {
      "cell_type": "markdown",
      "metadata": {
        "colab_type": "text",
        "id": "jtosg6iuv6uY"
      },
      "source": [
        "## MODELO 3: GRADIENT BOOSTED TREES"
      ]
    },
    {
      "cell_type": "code",
      "metadata": {
        "colab_type": "code",
        "id": "2HU6qUAK15P4",
        "colab": {}
      },
      "source": [
        "def tree_extract_inputs(data):\n",
        "    return data[INPUTS_COLUMNS].values.astype(np.float64)\n",
        "   \n",
        "def tree_extract_outputs(data):\n",
        "    return data.reserva.values"
      ],
      "execution_count": 0,
      "outputs": []
    },
    {
      "cell_type": "code",
      "metadata": {
        "colab_type": "code",
        "id": "B-9GU6tY2dn0",
        "colab": {}
      },
      "source": [
        "from sklearn.ensemble import GradientBoostingClassifier"
      ],
      "execution_count": 0,
      "outputs": []
    },
    {
      "cell_type": "markdown",
      "metadata": {
        "id": "7IZTB8GtFKu_",
        "colab_type": "text"
      },
      "source": [
        "#### Aplicamos una profunidad máxima de 8 niveles para evitar que el modelo se aprenda el recorrido exacto para caso de prueba:"
      ]
    },
    {
      "cell_type": "code",
      "metadata": {
        "colab_type": "code",
        "id": "FRZoBvgR2e_E",
        "colab": {}
      },
      "source": [
        "boost_model = GradientBoostingClassifier(max_depth=8)"
      ],
      "execution_count": 0,
      "outputs": []
    },
    {
      "cell_type": "code",
      "metadata": {
        "colab_type": "code",
        "id": "lh7lj9Kr2hpk",
        "colab": {}
      },
      "source": [
        "boost_model.fit(\n",
        "    tree_extract_inputs(train),\n",
        "    tree_extract_outputs(train),\n",
        ")"
      ],
      "execution_count": 0,
      "outputs": []
    },
    {
      "cell_type": "code",
      "metadata": {
        "colab_type": "code",
        "id": "iqBU-PUm2xZz",
        "scrolled": true,
        "colab": {}
      },
      "source": [
        "evaluate_model(boost_model, tree_extract_inputs, tree_extract_outputs, False)"
      ],
      "execution_count": 0,
      "outputs": []
    },
    {
      "cell_type": "markdown",
      "metadata": {
        "colab_type": "text",
        "id": "IlT8OCnnTJoy"
      },
      "source": [
        "**Conclusión:**\n",
        "\n",
        "En el 65,28% de los casos que el modelo de Gradient Boosted Trees predijo que un usuario reservaría sobre el conjunto 'test', ese usuario efectivamente lo hizo. \n",
        "\n",
        "Además, identificó correctamente al 56,9% de los usuarios que reservaron.\n",
        "\n",
        "Su F1 Score es de 0,608 y su MCC de 0.364. Ambas métricas son superiores a las del modelo LinearSVC. Esto se debe a que su métrica de Recall mejora respecto al anterior modelo, mientras que su valor de Precission disminuye en menor medida.\n",
        "\n",
        "Consideramos que el modelo actual funciona mejor que LinearSVC."
      ]
    },
    {
      "cell_type": "markdown",
      "metadata": {
        "colab_type": "text",
        "id": "gMbn-PqXSf8H"
      },
      "source": [
        "## MODELO 4: ADABOOSTING"
      ]
    },
    {
      "cell_type": "code",
      "metadata": {
        "colab_type": "code",
        "id": "GV_XJ19USf8I",
        "colab": {}
      },
      "source": [
        "from sklearn.ensemble import AdaBoostClassifier\n",
        "\n",
        "def ada_extract_inputs(data):\n",
        "    return data[INPUTS_COLUMNS].values.astype(np.float64)\n",
        "   \n",
        "def ada_extract_outputs(data):\n",
        "    return data.reserva.values"
      ],
      "execution_count": 0,
      "outputs": []
    },
    {
      "cell_type": "code",
      "metadata": {
        "id": "jXe018TcFKvT",
        "colab_type": "code",
        "colab": {}
      },
      "source": [
        "ada = AdaBoostClassifier(n_estimators=100, random_state=0)\n",
        "\n",
        "ada.fit(ada_extract_inputs(train),ada_extract_outputs(train),)"
      ],
      "execution_count": 0,
      "outputs": []
    },
    {
      "cell_type": "code",
      "metadata": {
        "colab_type": "code",
        "id": "YIdf2eaDSf8O",
        "colab": {}
      },
      "source": [
        "evaluate_model(ada, ada_extract_inputs, ada_extract_outputs, False)"
      ],
      "execution_count": 0,
      "outputs": []
    },
    {
      "cell_type": "markdown",
      "metadata": {
        "colab_type": "text",
        "id": "mKqfQh7WTRaw"
      },
      "source": [
        "**Conclusión:**\n",
        "\n",
        "En el 66,21% de los casos que el modelo de AdaBoosting predijo que un usuario reservaría sobre el conjunto 'test', ese usuario efectivamente lo hizo.\n",
        "\n",
        "Además, identificó correctamente al 53,57% de los usuarios que reservaron.\n",
        "\n",
        "\n",
        "Su F1 Score es de 0,592 y su MCC de 0.357.\n",
        "\n",
        "Este modelo presenta resultados similares al modelo LinearSVC, es decir, es similarmente inferior ante la alternativa de Gradient Boosted Trees."
      ]
    },
    {
      "cell_type": "markdown",
      "metadata": {
        "colab_type": "text",
        "id": "yL4EpOUjSf8W"
      },
      "source": [
        "## CONCLUSIONES FINALES:"
      ]
    },
    {
      "cell_type": "markdown",
      "metadata": {
        "colab_type": "text",
        "id": "t4A_clsDTXwE"
      },
      "source": [
        "El modelo de machine learning que desarrollamos en base al algoritmo de Gradient Boosted Trees nos permite identificar correctamente al 56,9% de los usuarios que harán una reserva en el sitio.\n",
        "\n",
        "Habrá un 34,72% de usuarios que considero que harán una reserva, pero en realidad no la harán. Esto no tiene efectos negativos sobre el negocio, ya que no hay una pérdida por ofrecerle un anuncio o promoción que no usará (excepto el costo de oportunidad de haberle ofrecido otro anuncio diferente).\n",
        "\n",
        "Su valor de F1 Score (0.608) refleja su capacidad de identificar correctamente a los usuarios que reservarán, sin preocuparnos demasiado por los verdaderos negativos (usuarios identificados correctamente como que no harán una reserva).\n",
        "\n",
        "Su valor de MCC (0.364) es bueno, considerando el 0 una random guess y el 1 una predicción perfecta."
      ]
    }
  ]
}